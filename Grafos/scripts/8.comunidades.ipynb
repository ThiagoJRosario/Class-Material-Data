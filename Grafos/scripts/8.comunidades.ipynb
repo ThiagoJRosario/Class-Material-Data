{
 "cells": [
  {
   "cell_type": "code",
   "execution_count": 3,
   "metadata": {},
   "outputs": [],
   "source": [
    "# Igraph"
   ]
  },
  {
   "cell_type": "code",
   "execution_count": 4,
   "metadata": {},
   "outputs": [],
   "source": [
    "# Importação das bibliotecas\n",
    "from igraph import Graph\n",
    "from igraph import plot\n",
    "import igraph\n",
    "import numpy as np"
   ]
  },
  {
   "cell_type": "code",
   "execution_count": 6,
   "metadata": {},
   "outputs": [
    {
     "ename": "NotImplementedError",
     "evalue": "Error at src/io/graphml.c:1459: GraphML support is disabled. -- Unimplemented function call",
     "output_type": "error",
     "traceback": [
      "\u001b[1;31m---------------------------------------------------------------------------\u001b[0m",
      "\u001b[1;31mNotImplementedError\u001b[0m                       Traceback (most recent call last)",
      "Cell \u001b[1;32mIn[6], line 2\u001b[0m\n\u001b[0;32m      1\u001b[0m \u001b[39m# Carregamento de grafo no formato graphml\u001b[39;00m\n\u001b[1;32m----> 2\u001b[0m grafo \u001b[39m=\u001b[39m igraph\u001b[39m.\u001b[39;49mload(\u001b[39mr\u001b[39;49m\u001b[39m'\u001b[39;49m\u001b[39mC:\u001b[39;49m\u001b[39m\\\u001b[39;49m\u001b[39mUsers\u001b[39;49m\u001b[39m\\\u001b[39;49m\u001b[39mthiag\u001b[39;49m\u001b[39m\\\u001b[39;49m\u001b[39mDesktop\u001b[39;49m\u001b[39m\\\u001b[39;49m\u001b[39mProgramação\u001b[39;49m\u001b[39m\\\u001b[39;49m\u001b[39mData Science\u001b[39;49m\u001b[39m\\\u001b[39;49m\u001b[39mCurso DS\u001b[39;49m\u001b[39m\\\u001b[39;49m\u001b[39mMaterialAula\u001b[39;49m\u001b[39m\\\u001b[39;49m\u001b[39m37.Prática em Python\u001b[39;49m\u001b[39m\\\u001b[39;49m\u001b[39mdados\u001b[39;49m\u001b[39m\\\u001b[39;49m\u001b[39mGrafo.graphml\u001b[39;49m\u001b[39m'\u001b[39;49m)\n\u001b[0;32m      3\u001b[0m \u001b[39mprint\u001b[39m(grafo)\n",
      "File \u001b[1;32m~\\AppData\\Local\\Packages\\PythonSoftwareFoundation.Python.3.10_qbz5n2kfra8p0\\LocalCache\\local-packages\\Python310\\site-packages\\igraph\\__init__.py:5282\u001b[0m, in \u001b[0;36mread\u001b[1;34m(filename, *args, **kwds)\u001b[0m\n\u001b[0;32m   5274\u001b[0m \u001b[39mdef\u001b[39;00m \u001b[39mread\u001b[39m(filename, \u001b[39m*\u001b[39margs, \u001b[39m*\u001b[39m\u001b[39m*\u001b[39mkwds):\n\u001b[0;32m   5275\u001b[0m     \u001b[39m\"\"\"Loads a graph from the given filename.\u001b[39;00m\n\u001b[0;32m   5276\u001b[0m \n\u001b[0;32m   5277\u001b[0m \u001b[39m    This is just a convenience function, calls L{Graph.Read} directly.\u001b[39;00m\n\u001b[1;32m   (...)\u001b[0m\n\u001b[0;32m   5280\u001b[0m \u001b[39m    @param filename: the name of the file to be loaded\u001b[39;00m\n\u001b[0;32m   5281\u001b[0m \u001b[39m    \"\"\"\u001b[39;00m\n\u001b[1;32m-> 5282\u001b[0m     \u001b[39mreturn\u001b[39;00m Graph\u001b[39m.\u001b[39mRead(filename, \u001b[39m*\u001b[39margs, \u001b[39m*\u001b[39m\u001b[39m*\u001b[39mkwds)\n",
      "File \u001b[1;32m~\\AppData\\Local\\Packages\\PythonSoftwareFoundation.Python.3.10_qbz5n2kfra8p0\\LocalCache\\local-packages\\Python310\\site-packages\\igraph\\__init__.py:2941\u001b[0m, in \u001b[0;36mGraph.Read\u001b[1;34m(cls, f, format, *args, **kwds)\u001b[0m\n\u001b[0;32m   2939\u001b[0m     \u001b[39mraise\u001b[39;00m \u001b[39mIOError\u001b[39;00m(\u001b[39m\"\u001b[39m\u001b[39mno reader method for file format: \u001b[39m\u001b[39m%s\u001b[39;00m\u001b[39m\"\u001b[39m \u001b[39m%\u001b[39m \u001b[39mstr\u001b[39m(\u001b[39mformat\u001b[39m))\n\u001b[0;32m   2940\u001b[0m reader \u001b[39m=\u001b[39m \u001b[39mgetattr\u001b[39m(\u001b[39mcls\u001b[39m, reader)\n\u001b[1;32m-> 2941\u001b[0m \u001b[39mreturn\u001b[39;00m reader(f, \u001b[39m*\u001b[39margs, \u001b[39m*\u001b[39m\u001b[39m*\u001b[39mkwds)\n",
      "\u001b[1;31mNotImplementedError\u001b[0m: Error at src/io/graphml.c:1459: GraphML support is disabled. -- Unimplemented function call"
     ]
    }
   ],
   "source": [
    "# Carregamento de grafo no formato graphml\n",
    "grafo = igraph.load(r'C:\\Users\\thiag\\Desktop\\Programação\\Data Science\\Curso DS\\MaterialAula\\37.Prática em Python\\dados\\Grafo.graphml')\n",
    "print(grafo)"
   ]
  },
  {
   "cell_type": "code",
   "execution_count": null,
   "metadata": {},
   "outputs": [],
   "source": [
    "# Visualização do grafo\n",
    "plot(grafo, bbox = (0,0,600,600))"
   ]
  },
  {
   "cell_type": "code",
   "execution_count": null,
   "metadata": {},
   "outputs": [],
   "source": [
    "# Visualização das comunidades\n",
    "comunidades = grafo.clusters()\n",
    "print(comunidades)"
   ]
  },
  {
   "cell_type": "code",
   "execution_count": null,
   "metadata": {},
   "outputs": [],
   "source": [
    "# Visualização em qual comunidade qual registro foi associado\n",
    "comunidades.membership"
   ]
  },
  {
   "cell_type": "code",
   "execution_count": null,
   "metadata": {},
   "outputs": [],
   "source": [
    "# Visualização do grafo\n",
    "cores = comunidades.membership\n",
    "# Array de cores para defirmos cores diferentes para cada grupo\n",
    "cores = np.array(cores)\n",
    "cores = cores * 20\n",
    "cores = cores.tolist()\n",
    "plot(grafo, vertex_color = cores)"
   ]
  },
  {
   "cell_type": "markdown",
   "metadata": {},
   "source": [
    "exemplo 2"
   ]
  },
  {
   "cell_type": "code",
   "execution_count": null,
   "metadata": {},
   "outputs": [],
   "source": [
    "# Criação de grafo direcionado com pesos nas arestas\n",
    "grafo2 = Graph(edges = [(0,2),(0,1),(1,4),(1,5),(2,3),(6,7),(3,7),(4,7),(5,6)],\n",
    "                       directed = True)\n",
    "grafo2.vs['label'] = ['A', 'B', 'C', 'D', 'E', 'F', 'G', 'H']\n",
    "grafo2.es['weight'] = [2,1,2,1,2,1,3,1]"
   ]
  },
  {
   "cell_type": "code",
   "execution_count": null,
   "metadata": {},
   "outputs": [],
   "source": [
    "# Visualização do grafo\n",
    "plot(grafo2, bbox = (0,0,300,300))"
   ]
  },
  {
   "cell_type": "code",
   "execution_count": null,
   "metadata": {},
   "outputs": [],
   "source": [
    "# Visualização de comunidades e em qual comunidade cada registro foi associado\n",
    "comunidades2 = grafo2.clusters()\n",
    "print(comunidades2)\n",
    "comunidades2.membership"
   ]
  },
  {
   "cell_type": "code",
   "execution_count": null,
   "metadata": {},
   "outputs": [],
   "source": [
    "# Função mais otimizada para visualização das comunidades\n",
    "c = grafo2.community_edge_betweenness()\n",
    "print(c)\n",
    "# Obtenção do número de clusters\n",
    "c.optimal_count\n",
    "# Visualização da nova comunidade\n",
    "comunidades3 = c.as_clustering()\n",
    "print(comunidades3)\n",
    "comunidades3.membership"
   ]
  },
  {
   "cell_type": "code",
   "execution_count": null,
   "metadata": {},
   "outputs": [],
   "source": [
    "# Geração do grafo das comunidades colocando cores entre os grupos identificados\n",
    "plot(grafo2, vertex_color = comunidades3.membership)\n",
    "cores = comunidades3.membership\n",
    "# Array de cores para defirmos cores diferentes para cada grupo\n",
    "cores = np.array(cores)\n",
    "cores = cores * 100\n",
    "cores = cores.tolist()"
   ]
  },
  {
   "cell_type": "code",
   "execution_count": null,
   "metadata": {},
   "outputs": [],
   "source": [
    "plot(grafo2, bbox = (0,0,300,300), vertex_color = cores)"
   ]
  },
  {
   "cell_type": "code",
   "execution_count": null,
   "metadata": {
    "lines_to_next_cell": 2
   },
   "outputs": [],
   "source": [
    "# Visualização dos cliques\n",
    "cli = grafo.as_undirected().cliques(min = 4)\n",
    "print(cli)\n",
    "len(cli)"
   ]
  },
  {
   "cell_type": "code",
   "execution_count": null,
   "metadata": {},
   "outputs": [],
   "source": []
  }
 ],
 "metadata": {
  "jupytext": {
   "cell_metadata_filter": "-all",
   "main_language": "python",
   "notebook_metadata_filter": "-all"
  },
  "kernelspec": {
   "display_name": "Python 3",
   "language": "python",
   "name": "python3"
  },
  "language_info": {
   "codemirror_mode": {
    "name": "ipython",
    "version": 3
   },
   "file_extension": ".py",
   "mimetype": "text/x-python",
   "name": "python",
   "nbconvert_exporter": "python",
   "pygments_lexer": "ipython3",
   "version": "3.10.9 (tags/v3.10.9:1dd9be6, Dec  6 2022, 20:01:21) [MSC v.1934 64 bit (AMD64)]"
  },
  "vscode": {
   "interpreter": {
    "hash": "5cf7f7484d45f51758e53df12f96109adb69163aeaf69db2ed030ea8574e66dc"
   }
  }
 },
 "nbformat": 4,
 "nbformat_minor": 4
}
